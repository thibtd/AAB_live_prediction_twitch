{
 "cells": [
  {
   "cell_type": "code",
   "execution_count": 2,
   "id": "e3edc341",
   "metadata": {
    "ExecuteTime": {
     "end_time": "2022-05-20T08:19:59.439246Z",
     "start_time": "2022-05-20T08:19:59.431779Z"
    },
    "hide_input": false
   },
   "outputs": [],
   "source": [
    "import threading\n",
    "\n",
    "# Helper thread to avoid the Spark StreamingContext from blocking Jupyter\n",
    "        \n",
    "class StreamingThread(threading.Thread):\n",
    "    def __init__(self, ssc):\n",
    "        super().__init__()\n",
    "        self.ssc = ssc\n",
    "    def run(self):\n",
    "        self.ssc.start()\n",
    "        self.ssc.awaitTermination()\n",
    "    def stop(self):\n",
    "        print('----- Stopping... this may take a few seconds -----')\n",
    "        self.ssc.stop(stopSparkContext=False, stopGraceFully=True)"
   ]
  },
  {
   "cell_type": "code",
   "execution_count": 3,
   "id": "dd98ba36",
   "metadata": {
    "ExecuteTime": {
     "end_time": "2022-05-20T08:19:59.836161Z",
     "start_time": "2022-05-20T08:19:59.814208Z"
    }
   },
   "outputs": [
    {
     "data": {
      "text/html": [
       "\n",
       "        <div>\n",
       "            <p><b>SparkContext</b></p>\n",
       "\n",
       "            <p><a href=\"http://192.168.0.131:4040\">Spark UI</a></p>\n",
       "\n",
       "            <dl>\n",
       "              <dt>Version</dt>\n",
       "                <dd><code>v3.2.1</code></dd>\n",
       "              <dt>Master</dt>\n",
       "                <dd><code>local[*]</code></dd>\n",
       "              <dt>AppName</dt>\n",
       "                <dd><code>PySparkShell</code></dd>\n",
       "            </dl>\n",
       "        </div>\n",
       "        "
      ],
      "text/plain": [
       "<SparkContext master=local[*] appName=PySparkShell>"
      ]
     },
     "execution_count": 3,
     "metadata": {},
     "output_type": "execute_result"
    }
   ],
   "source": [
    "sc"
   ]
  },
  {
   "cell_type": "code",
   "execution_count": 12,
   "id": "e5477086",
   "metadata": {
    "ExecuteTime": {
     "end_time": "2022-05-20T08:22:28.220565Z",
     "start_time": "2022-05-20T08:22:28.206368Z"
    }
   },
   "outputs": [],
   "source": [
    "from pyspark.streaming import StreamingContext\n",
    "from pyspark.sql import Row\n",
    "from pyspark.sql.functions import udf, struct, array, col, lit\n",
    "from pyspark.sql.types import StringType\n",
    "from pyspark.ml import Pipeline\n",
    "from pyspark.ml.classification import LogisticRegression,DecisionTreeClassifier,RandomForestClassifier\n",
    "from pyspark.ml.feature import HashingTF, Tokenizer,RFormula,StopWordsRemover,RegexTokenizer\n",
    "from pyspark.sql.functions import col, when\n",
    "from pyspark.ml.tuning import ParamGridBuilder, CrossValidator\n",
    "from pyspark.ml.evaluation import BinaryClassificationEvaluator\n",
    "from pyspark.ml.feature import StringIndexer, VectorIndexer\n",
    "from pyspark.sql.types import StructType,StructField\n",
    "from pyspark.ml.feature import CountVectorizer, IDF \n",
    "from pyspark.ml.feature import Word2Vec, Normalizer\n",
    "from  pyspark.sql.functions import rand,countDistinct\n",
    "\n",
    "from pyspark.ml import PipelineModel\n"
   ]
  },
  {
   "cell_type": "code",
   "execution_count": 5,
   "id": "1184340e",
   "metadata": {
    "ExecuteTime": {
     "end_time": "2022-05-20T08:20:00.621893Z",
     "start_time": "2022-05-20T08:20:00.615976Z"
    }
   },
   "outputs": [],
   "source": [
    "from pyspark.ml.classification import RandomForestClassifier\n",
    "from pyspark.ml.feature import IndexToString, StringIndexer, VectorIndexer\n",
    "from pyspark.ml.evaluation import BinaryClassificationEvaluator"
   ]
  },
  {
   "cell_type": "markdown",
   "id": "745f0ba7",
   "metadata": {},
   "source": [
    "# Import Dataset"
   ]
  },
  {
   "cell_type": "code",
   "execution_count": 6,
   "id": "da68363b",
   "metadata": {
    "ExecuteTime": {
     "end_time": "2022-05-20T08:20:29.599919Z",
     "start_time": "2022-05-20T08:20:02.004441Z"
    }
   },
   "outputs": [
    {
     "name": "stderr",
     "output_type": "stream",
     "text": [
      "                                                                                \r"
     ]
    }
   ],
   "source": [
    "import os\n",
    "# assign directory\n",
    "#directory = 'C:/Users/user/Desktop/spark/notebooks/twitch_data'\n",
    "directory = '/Users/thibtd/Desktop/spark/notebooks/twitch_data'\n",
    "direcs = []\n",
    "# iterate over files in\n",
    "# that directory\n",
    "for root, dirs, files in os.walk(directory):\n",
    "    #print(dirs)\n",
    "    direcs.append(dirs)\n",
    "    for filename in files:\n",
    "        #print(os.path.join(root))\n",
    "        direcs.append(dirs)\n",
    "        #print(dirs)\n",
    "        \n",
    "#print(direcs[0])\n",
    "emptyRDD = spark.sparkContext.emptyRDD()\n",
    "schema = StructType([\n",
    "  StructField('channel', StringType(), True),\n",
    "  StructField('datetime', StringType(), True),\n",
    "  StructField('message', StringType(), True),\n",
    "  StructField('username', StringType(), True)\n",
    "  ])\n",
    "df =  spark.createDataFrame(emptyRDD, schema)\n",
    "for d in direcs[0]:\n",
    "    a =  spark.read.json('/Users/thibtd/Desktop/spark/notebooks/twitch_data/{}'.format(d))\n",
    "    df = df.union(a)"
   ]
  },
  {
   "cell_type": "code",
   "execution_count": 7,
   "id": "00f6c4a0",
   "metadata": {
    "ExecuteTime": {
     "end_time": "2022-05-20T08:20:42.084702Z",
     "start_time": "2022-05-20T08:20:34.500152Z"
    }
   },
   "outputs": [
    {
     "name": "stderr",
     "output_type": "stream",
     "text": [
      "                                                                                \r"
     ]
    },
    {
     "data": {
      "text/plain": [
       "7542"
      ]
     },
     "execution_count": 7,
     "metadata": {},
     "output_type": "execute_result"
    }
   ],
   "source": [
    "df_c = df.alias('df_c')\n",
    "\n",
    "df_c.count()"
   ]
  },
  {
   "cell_type": "code",
   "execution_count": 8,
   "id": "fed52efb",
   "metadata": {
    "ExecuteTime": {
     "end_time": "2022-05-20T08:20:43.808381Z",
     "start_time": "2022-05-20T08:20:43.804762Z"
    }
   },
   "outputs": [],
   "source": [
    "#path to save the model \n",
    "path = '/Users/thibtd/Desktop/spark/notebooks'\n",
    "model_path = path + \"/model_nlp_final\""
   ]
  },
  {
   "cell_type": "markdown",
   "id": "1eaaf999",
   "metadata": {},
   "source": [
    "# Cleaning the Dataset"
   ]
  },
  {
   "cell_type": "code",
   "execution_count": 9,
   "id": "75e7096e",
   "metadata": {
    "ExecuteTime": {
     "end_time": "2022-05-20T08:21:00.263520Z",
     "start_time": "2022-05-20T08:20:45.167483Z"
    },
    "scrolled": true
   },
   "outputs": [
    {
     "name": "stderr",
     "output_type": "stream",
     "text": [
      "                                                                                \r"
     ]
    },
    {
     "name": "stdout",
     "output_type": "stream",
     "text": [
      "7542\n"
     ]
    },
    {
     "name": "stderr",
     "output_type": "stream",
     "text": [
      "[Stage 36:====================================================> (165 + 5) / 170]\r"
     ]
    },
    {
     "name": "stdout",
     "output_type": "stream",
     "text": [
      "+-----+--------------------+----------------+\n",
      "|label|                text|        username|\n",
      "+-----+--------------------+----------------+\n",
      "|    1|Chatting link por...|   realriotgrrrl|\n",
      "|    0|                HUHH|      tobbster__|\n",
      "|    1| BILLY ON THE STREET|        maw67890|\n",
      "|    1|                 HUH|    peachington_|\n",
      "|    0|so they still 'pr...|      grillbadly|\n",
      "|    1|PLUMBER CRACK SHO...|thembo_swaggins_|\n",
      "|    0|         LIKE JOHNNY|         ded_men|\n",
      "|    1|                 HUH|     valkyboi369|\n",
      "|    1|                 HUH|     ventusnova_|\n",
      "|    0|          GET FUCKED|         kyorotv|\n",
      "|    0|                  ja|     ladyinertia|\n",
      "|    0|it's too much for...|   viciousarchon|\n",
      "|    1|            OMEGALUL|          kid254|\n",
      "|    0|               Madge|        forsen15|\n",
      "|    0|           PepeLaugh|       alzalam13|\n",
      "|    1|At least listen t...|   samanthonybob|\n",
      "|    1|                KEKL|       dixonsm64|\n",
      "|    1|@AustinShow peepoHey| helloitscharlie|\n",
      "|    1|seth rogan is a f...|        viaredux|\n",
      "|    1|CONTINUE gachiHYP...|          naw00b|\n",
      "|    0|widepeepoHappy BITCH|         lainuko|\n",
      "|    1|THATS AWFUL!! LIN...|         mf_jewm|\n",
      "|    0|tyler1FF tyler15 ...|        kasonkoi|\n",
      "|    1|@hasanabi HE SAID...|        adamadam|\n",
      "|    1|sounds like a goo...|     hopeindecay|\n",
      "|    1|      Sadge no cock?|        lasa2512|\n",
      "|    0|Thats not her job...|       paperwink|\n",
      "|    0| KKona IN THE FAMILY|      arctic_jdm|\n",
      "|    0|\"I'm here to defe...|            pffq|\n",
      "|    1| NOPERS DOESNT COUNT|          defell|\n",
      "|    0|             Hahhahh|   oldirty_david|\n",
      "|    1|ay homie drop the...|  benmakesmovies|\n",
      "|    0|              GOTTEM|      corkscrewd|\n",
      "|    0|             LOLOLOL|   sneakymfsnake|\n",
      "|    1|                KEKW|   detective_kid|\n",
      "|    0|                DAMN|     gawzilla_83|\n",
      "|    0|           KKona SIS|         oliveiv|\n",
      "|    0|            SABOTAGE|         dimcho_|\n",
      "|    0|          She is fat|    superkarl981|\n",
      "|    1|gachiHYPER HYPERC...|         reevox2|\n",
      "|    0|         a new queen|    demonic_xael|\n",
      "|    1|            OMEGALUL|   king__butterz|\n",
      "|    0| Here we go boys Pog|     questfor420|\n",
      "|    0|                  EZ|republic_remnant|\n",
      "|    0|      Yasss adeptPur|   lexifi_twitch|\n",
      "|    1|      FeelsStrongMan|   thecyanmuffin|\n",
      "|    0|you enjoy megapints?|      abitrusty1|\n",
      "|    1|                KEKL|          jai_ca|\n",
      "|    0|                 lol|  evolutionman83|\n",
      "|    1|                link|       dilluscus|\n",
      "+-----+--------------------+----------------+\n",
      "only showing top 50 rows\n",
      "\n"
     ]
    },
    {
     "name": "stderr",
     "output_type": "stream",
     "text": [
      "\r",
      "                                                                                \r"
     ]
    }
   ],
   "source": [
    "lim = int(df_c.count())\n",
    "print(lim)\n",
    "\n",
    "df2 = df_c.select(col(\"channel\").alias(\"label\"),col('message').alias('text'),col('username'))\n",
    "\n",
    "#Order randomly the rows and select 200 rows\n",
    "df3= df2.withColumn(\"label\", when(df2.label ==\"#asmongold\",0).otherwise(1)).orderBy(rand()).limit(lim)\n",
    "df3.show(50, truncate=True)"
   ]
  },
  {
   "cell_type": "code",
   "execution_count": 20,
   "id": "af672fb7",
   "metadata": {
    "ExecuteTime": {
     "end_time": "2022-05-20T08:25:12.187409Z",
     "start_time": "2022-05-20T08:25:08.094668Z"
    }
   },
   "outputs": [
    {
     "name": "stderr",
     "output_type": "stream",
     "text": [
      "[Stage 42:===============================================>      (151 + 9) / 170]\r"
     ]
    },
    {
     "name": "stdout",
     "output_type": "stream",
     "text": [
      "+-----+-----+\n",
      "|label|count|\n",
      "+-----+-----+\n",
      "|    1| 3343|\n",
      "|    0| 4199|\n",
      "+-----+-----+\n",
      "\n"
     ]
    },
    {
     "name": "stderr",
     "output_type": "stream",
     "text": [
      "\r",
      "                                                                                \r"
     ]
    }
   ],
   "source": [
    "df3.groupBy('label').count().show()"
   ]
  },
  {
   "cell_type": "markdown",
   "id": "a2be52d5",
   "metadata": {},
   "source": [
    "# Pipeline building"
   ]
  },
  {
   "cell_type": "markdown",
   "id": "41abaf69",
   "metadata": {},
   "source": [
    "## Model Creation"
   ]
  },
  {
   "cell_type": "markdown",
   "id": "61ae265d",
   "metadata": {},
   "source": [
    "**Features Extraction**"
   ]
  },
  {
   "cell_type": "code",
   "execution_count": 30,
   "id": "c049f733",
   "metadata": {
    "ExecuteTime": {
     "end_time": "2022-05-18T19:31:58.128659Z",
     "start_time": "2022-05-18T19:31:58.038156Z"
    }
   },
   "outputs": [],
   "source": [
    "tokenizer = Tokenizer(inputCol='text',outputCol='mess_tok')\n",
    "remover = StopWordsRemover(inputCol=tokenizer.getOutputCol(),outputCol='filtered')\n",
    "hashingtf = HashingTF(inputCol=remover.getOutputCol(),outputCol='features')\n",
    "idf = IDF(inputCol=hashingtf.getOutputCol(), outputCol=\"title_tf_idf\")\n",
    "regexTokenizer = RegexTokenizer(inputCol='text',outputCol='mess_tok', pattern=\"\\\\W\")\n",
    "normalizer = Normalizer(inputCol=idf.getOutputCol(), outputCol=\"title_tf_idf_norm\")"
   ]
  },
  {
   "cell_type": "markdown",
   "id": "3ac47c71",
   "metadata": {},
   "source": [
    "**Models**"
   ]
  },
  {
   "cell_type": "code",
   "execution_count": 31,
   "id": "2afff676",
   "metadata": {
    "ExecuteTime": {
     "end_time": "2022-05-18T19:32:04.123041Z",
     "start_time": "2022-05-18T19:31:59.630618Z"
    }
   },
   "outputs": [
    {
     "name": "stderr",
     "output_type": "stream",
     "text": [
      "[Stage 302:=============================================>      (148 + 10) / 170]\r"
     ]
    },
    {
     "name": "stdout",
     "output_type": "stream",
     "text": [
      "+-----+--------------------+-----------------+\n",
      "|label|                text|         username|\n",
      "+-----+--------------------+-----------------+\n",
      "|    0|                    |   cody_forsythe_|\n",
      "|    0|                    |            duohh|\n",
      "|    0|                    |kevindelacrosss14|\n",
      "|    0|                    |         mrmoreno|\n",
      "|    0|                    |       nokrashy99|\n",
      "|    0|                    |  pladypuslemming|\n",
      "|    0|                    |          playha1|\n",
      "|    0|                    |      samueyejack|\n",
      "|    0|                    |          slopdop|\n",
      "|    0|                    |          tajcove|\n",
      "|    0|          !watchtime|       satanrubyx|\n",
      "|    0|    \"He's WONDERFUL\"|    justinrampage|\n",
      "|    0|\"I'm here to defe...|             pffq|\n",
      "|    0|\"would you do and...|        jazz_corp|\n",
      "|    0|#JUISTICEFORAMBER...|          geymear|\n",
      "|    0|          #rekt time|      unenergetic|\n",
      "|    0|                 ***|        mindccome|\n",
      "|    0|           *sips* :)|       kurlymoose|\n",
      "|    0|         +30 no rent|        gizimoo86|\n",
      "|    0|             . . . .|         thediogy|\n",
      "+-----+--------------------+-----------------+\n",
      "only showing top 20 rows\n",
      "\n"
     ]
    },
    {
     "name": "stderr",
     "output_type": "stream",
     "text": [
      "\r",
      "[Stage 303:>                                                        (0 + 1) / 1]\r",
      "\r",
      "                                                                                \r"
     ]
    }
   ],
   "source": [
    "#split dataset into train test \n",
    "train,test = df3.randomSplit([0.6, 0.4], 24)\n",
    "train.show()"
   ]
  },
  {
   "cell_type": "code",
   "execution_count": 32,
   "id": "e1d22364",
   "metadata": {
    "ExecuteTime": {
     "end_time": "2022-05-18T19:32:16.467850Z",
     "start_time": "2022-05-18T19:32:09.936841Z"
    }
   },
   "outputs": [
    {
     "name": "stderr",
     "output_type": "stream",
     "text": [
      "[Stage 306:==============================================>      (149 + 9) / 170]\r"
     ]
    },
    {
     "name": "stdout",
     "output_type": "stream",
     "text": [
      "train size:  4521 test size:  3021\n"
     ]
    },
    {
     "name": "stderr",
     "output_type": "stream",
     "text": [
      "\r",
      "                                                                                \r"
     ]
    }
   ],
   "source": [
    "print('train size: ', train.count(), 'test size: ', test.count())"
   ]
  },
  {
   "cell_type": "markdown",
   "id": "c2e718eb",
   "metadata": {},
   "source": [
    "Best model is Logistic Regression "
   ]
  },
  {
   "cell_type": "code",
   "execution_count": 33,
   "id": "88bc2e3e",
   "metadata": {
    "ExecuteTime": {
     "end_time": "2022-05-18T19:32:17.802249Z",
     "start_time": "2022-05-18T19:32:17.720156Z"
    }
   },
   "outputs": [],
   "source": [
    "lr = LogisticRegression()"
   ]
  },
  {
   "cell_type": "code",
   "execution_count": 34,
   "id": "53154497",
   "metadata": {
    "ExecuteTime": {
     "end_time": "2022-05-18T19:34:27.699728Z",
     "start_time": "2022-05-18T19:32:20.495129Z"
    }
   },
   "outputs": [
    {
     "name": "stderr",
     "output_type": "stream",
     "text": [
      "22/05/18 21:32:34 WARN InstanceBuilder$NativeBLAS: Failed to load implementation from:dev.ludovic.netlib.blas.JNIBLAS\n",
      "22/05/18 21:32:34 WARN InstanceBuilder$NativeBLAS: Failed to load implementation from:dev.ludovic.netlib.blas.ForeignLinkerBLAS\n",
      "22/05/18 21:32:34 WARN BLAS: Failed to load implementation from: com.github.fommil.netlib.NativeSystemBLAS\n",
      "22/05/18 21:32:34 WARN BLAS: Failed to load implementation from: com.github.fommil.netlib.NativeRefBLAS\n",
      "22/05/18 21:32:40 WARN BlockManager: Asked to remove block broadcast_975, which does not exist\n"
     ]
    }
   ],
   "source": [
    "pip1 = Pipeline(stages=[tokenizer,remover,hashingtf,idf,normalizer,lr])\n",
    "df_pip = pip1.fit(train)"
   ]
  },
  {
   "cell_type": "code",
   "execution_count": 35,
   "id": "67483009",
   "metadata": {
    "ExecuteTime": {
     "end_time": "2022-05-18T19:34:34.242983Z",
     "start_time": "2022-05-18T19:34:33.645536Z"
    }
   },
   "outputs": [],
   "source": [
    "predictions = df_pip.transform(test)"
   ]
  },
  {
   "cell_type": "code",
   "execution_count": 36,
   "id": "251acd57",
   "metadata": {
    "ExecuteTime": {
     "end_time": "2022-05-18T19:34:47.437252Z",
     "start_time": "2022-05-18T19:34:35.919175Z"
    }
   },
   "outputs": [
    {
     "name": "stderr",
     "output_type": "stream",
     "text": [
      "                                                                                \r"
     ]
    },
    {
     "name": "stdout",
     "output_type": "stream",
     "text": [
      "true positive:  1051  false positive:  253\n",
      "false negative:  277 true negative:  1440\n"
     ]
    }
   ],
   "source": [
    "tp = predictions.filter((predictions.label==1) & (predictions.prediction ==1)).count()\n",
    "fp = predictions.filter((predictions.label==0) & (predictions.prediction ==1)).count()\n",
    "tn = predictions.filter((predictions.label==0) & (predictions.prediction ==0)).count()\n",
    "fn = predictions.filter((predictions.label==1) & (predictions.prediction ==0)).count()\n",
    "print('true positive: ',tp, ' false positive: ', fp)\n",
    "print('false negative: ', fn, 'true negative: ', tn)"
   ]
  },
  {
   "cell_type": "code",
   "execution_count": 37,
   "id": "931fac56",
   "metadata": {
    "ExecuteTime": {
     "end_time": "2022-05-18T19:34:58.911249Z",
     "start_time": "2022-05-18T19:34:56.195380Z"
    }
   },
   "outputs": [
    {
     "name": "stderr",
     "output_type": "stream",
     "text": [
      "\r",
      "[Stage 528:==========================>                           (84 + 8) / 170]\r"
     ]
    },
    {
     "name": "stdout",
     "output_type": "stream",
     "text": [
      "+-----+----------+\n",
      "|label|prediction|\n",
      "+-----+----------+\n",
      "|    0|       0.0|\n",
      "|    0|       0.0|\n",
      "|    0|       0.0|\n",
      "|    0|       0.0|\n",
      "|    0|       0.0|\n",
      "|    0|       0.0|\n",
      "|    0|       1.0|\n",
      "|    0|       0.0|\n",
      "|    0|       0.0|\n",
      "|    0|       0.0|\n",
      "|    0|       0.0|\n",
      "|    0|       0.0|\n",
      "|    0|       0.0|\n",
      "|    0|       1.0|\n",
      "|    0|       0.0|\n",
      "|    0|       0.0|\n",
      "|    0|       0.0|\n",
      "|    0|       0.0|\n",
      "|    0|       0.0|\n",
      "|    0|       0.0|\n",
      "+-----+----------+\n",
      "only showing top 20 rows\n",
      "\n"
     ]
    },
    {
     "name": "stderr",
     "output_type": "stream",
     "text": [
      "\r",
      "                                                                                \r"
     ]
    }
   ],
   "source": [
    "predictions.select('label',\"prediction\").show()"
   ]
  },
  {
   "cell_type": "code",
   "execution_count": 38,
   "id": "e2c9cc2c",
   "metadata": {
    "ExecuteTime": {
     "end_time": "2022-05-18T19:35:12.505092Z",
     "start_time": "2022-05-18T19:35:08.575905Z"
    },
    "scrolled": true
   },
   "outputs": [
    {
     "name": "stderr",
     "output_type": "stream",
     "text": [
      "                                                                                \r"
     ]
    },
    {
     "name": "stdout",
     "output_type": "stream",
     "text": [
      "Test Area Under ROC 0.8895049334965301\n"
     ]
    }
   ],
   "source": [
    "evaluator = BinaryClassificationEvaluator()\n",
    "print('Test Area Under ROC', evaluator.evaluate(predictions))"
   ]
  },
  {
   "cell_type": "code",
   "execution_count": 39,
   "id": "d916ec17",
   "metadata": {
    "ExecuteTime": {
     "end_time": "2022-05-18T19:35:23.864032Z",
     "start_time": "2022-05-18T19:35:17.297429Z"
    }
   },
   "outputs": [
    {
     "name": "stderr",
     "output_type": "stream",
     "text": [
      "22/05/18 21:35:20 WARN TaskSetManager: Stage 547 contains a task of very large size (4184 KiB). The maximum recommended task size is 1000 KiB.\n",
      "                                                                                \r"
     ]
    }
   ],
   "source": [
    "#save the trained model \n",
    "df_pip.save(model_path)"
   ]
  },
  {
   "cell_type": "markdown",
   "id": "c9bde598",
   "metadata": {},
   "source": [
    "# Deployment phase"
   ]
  },
  {
   "cell_type": "code",
   "execution_count": 86,
   "id": "ae23125c",
   "metadata": {
    "ExecuteTime": {
     "end_time": "2022-05-18T20:11:16.468443Z",
     "start_time": "2022-05-18T20:11:14.218606Z"
    }
   },
   "outputs": [],
   "source": [
    "globals()['models_loaded'] = True\n",
    "globals()['my_model'] = PipelineModel.load(model_path)\n",
    "\n",
    "# Toy predict function. Normally you'd use your loaded globals()['my_model'] here\n",
    "def predict(df):\n",
    "    return 'predicted-name-of-channel'\n",
    "\n",
    "predict_udf = udf(predict, StringType())\n",
    "def clean(df):\n",
    "    lim = 3000\n",
    "    df2 = df.select(col(\"channel\").alias(\"label\"),col('message').alias('text'),col('username'))\n",
    "    df3= df2.withColumn(\"label\", when(df2.label ==\"#asmongold\",0).otherwise(1)).limit(lim)\n",
    "    return df3\n",
    "\n",
    "def process(time, rdd):\n",
    "    if rdd.isEmpty():\n",
    "        return\n",
    "    \n",
    "    print(\"========= %s =========\" % str(time))\n",
    "    \n",
    "    # Convert to data frame\n",
    "    df = spark.read.json(rdd)\n",
    "    df.show()\n",
    "    df = clean(df)\n",
    "    \n",
    "    \n",
    "    # Utilize our predict function\n",
    "    #df_withpreds = df.withColumn(\"pred\", predict_udf(\n",
    "     #   struct([df[x] for x in df.columns])\n",
    "    #))\n",
    "    #df_withpreds.show()\n",
    "    \n",
    "    # Normally, you wouldn't use a UDF (User Defined Function) Python function to predict as we did here (you can)\n",
    "    # but an MLlib model you've built and saved with Spark\n",
    "    # In this case, you need to prevent loading your model in every call to \"process\" as follows:\n",
    "    \n",
    "    # Load in the model if not yet loaded:\n",
    "    if not globals()['models_loaded']:\n",
    "        # load in your models here\n",
    "        globals()['my_model'] = '***' # Replace '***' with:    [...].load('my_logistic_regression')\n",
    "        globals()['models_loaded'] = True\n",
    "        \n",
    "    # And then predict using the loaded model: \n",
    "    df_result = globals()['my_model'].transform(df)\n",
    "    selected = df_result.select(\"text\",\"probability\",\"prediction\",'label' )\n",
    "    evaluator = BinaryClassificationEvaluator()\n",
    "    print('Test Area Under ROC', evaluator.evaluate(df_result))\n",
    "    tp = df_result.filter((df_result.label==1) & (df_result.prediction ==1)).count()\n",
    "    fp = df_result.filter((df_result.label==0) & (df_result.prediction ==1)).count()\n",
    "    tn = df_result.filter((df_result.label==0) & (df_result.prediction ==0)).count()\n",
    "    fn = df_result.filter((df_result.label==1) & (df_result.prediction ==0)).count()\n",
    "    print('true positive: ',tp, ' false positive: ', fp)\n",
    "    print('false negative: ', fn, 'true negative: ', tn)\n",
    "    selected.show(200)"
   ]
  },
  {
   "cell_type": "code",
   "execution_count": 91,
   "id": "527f2c44",
   "metadata": {
    "ExecuteTime": {
     "end_time": "2022-05-18T20:37:00.241635Z",
     "start_time": "2022-05-18T20:37:00.178161Z"
    }
   },
   "outputs": [],
   "source": [
    "ssc = StreamingContext(sc, 300)"
   ]
  },
  {
   "cell_type": "code",
   "execution_count": 92,
   "id": "56b904b4",
   "metadata": {
    "ExecuteTime": {
     "end_time": "2022-05-18T20:37:01.345739Z",
     "start_time": "2022-05-18T20:37:01.304314Z"
    }
   },
   "outputs": [],
   "source": [
    "lines = ssc.socketTextStream(\"localhost\", 8889)\n",
    "lines.foreachRDD(process)"
   ]
  },
  {
   "cell_type": "code",
   "execution_count": 93,
   "id": "3667964c",
   "metadata": {
    "ExecuteTime": {
     "end_time": "2022-05-18T20:37:02.030835Z",
     "start_time": "2022-05-18T20:37:02.023968Z"
    }
   },
   "outputs": [],
   "source": [
    "ssc_t = StreamingThread(ssc)\n",
    "ssc_t.start()"
   ]
  },
  {
   "cell_type": "code",
   "execution_count": 94,
   "id": "ee7234c6",
   "metadata": {
    "ExecuteTime": {
     "end_time": "2022-05-18T20:55:00.175051Z",
     "start_time": "2022-05-18T20:40:06.742591Z"
    }
   },
   "outputs": [
    {
     "name": "stdout",
     "output_type": "stream",
     "text": [
      "Test Area Under ROC 0.6724762686660668\n",
      "----- Stopping... this may take a few seconds -----\n"
     ]
    },
    {
     "name": "stderr",
     "output_type": "stream",
     "text": [
      "22/05/18 22:40:06 WARN SocketReceiver: Error receiving data\n",
      "java.net.SocketException: Socket closed\n",
      "\tat java.base/java.net.SocketInputStream.socketRead0(Native Method)\n",
      "\tat java.base/java.net.SocketInputStream.socketRead(SocketInputStream.java:115)\n",
      "\tat java.base/java.net.SocketInputStream.read(SocketInputStream.java:168)\n",
      "\tat java.base/java.net.SocketInputStream.read(SocketInputStream.java:140)\n",
      "\tat java.base/sun.nio.cs.StreamDecoder.readBytes(StreamDecoder.java:284)\n",
      "\tat java.base/sun.nio.cs.StreamDecoder.implRead(StreamDecoder.java:326)\n",
      "\tat java.base/sun.nio.cs.StreamDecoder.read(StreamDecoder.java:178)\n",
      "\tat java.base/java.io.InputStreamReader.read(InputStreamReader.java:181)\n",
      "\tat java.base/java.io.BufferedReader.fill(BufferedReader.java:161)\n",
      "\tat java.base/java.io.BufferedReader.readLine(BufferedReader.java:326)\n",
      "\tat java.base/java.io.BufferedReader.readLine(BufferedReader.java:392)\n",
      "\tat org.apache.spark.streaming.dstream.SocketReceiver$$anon$2.getNext(SocketInputDStream.scala:121)\n",
      "\tat org.apache.spark.streaming.dstream.SocketReceiver$$anon$2.getNext(SocketInputDStream.scala:119)\n",
      "\tat org.apache.spark.util.NextIterator.hasNext(NextIterator.scala:73)\n",
      "\tat org.apache.spark.streaming.dstream.SocketReceiver.receive(SocketInputDStream.scala:91)\n",
      "\tat org.apache.spark.streaming.dstream.SocketReceiver$$anon$1.run(SocketInputDStream.scala:72)\n",
      "22/05/18 22:40:06 ERROR ReceiverTracker: Deregistered receiver for stream 0: Stopped by driver\n",
      "22/05/18 22:40:06 WARN ReceiverSupervisorImpl: Restarting receiver with delay 2000 ms: Error receiving data\n",
      "java.net.SocketException: Socket closed\n",
      "\tat java.base/java.net.SocketInputStream.socketRead0(Native Method)\n",
      "\tat java.base/java.net.SocketInputStream.socketRead(SocketInputStream.java:115)\n",
      "\tat java.base/java.net.SocketInputStream.read(SocketInputStream.java:168)\n",
      "\tat java.base/java.net.SocketInputStream.read(SocketInputStream.java:140)\n",
      "\tat java.base/sun.nio.cs.StreamDecoder.readBytes(StreamDecoder.java:284)\n",
      "\tat java.base/sun.nio.cs.StreamDecoder.implRead(StreamDecoder.java:326)\n",
      "\tat java.base/sun.nio.cs.StreamDecoder.read(StreamDecoder.java:178)\n",
      "\tat java.base/java.io.InputStreamReader.read(InputStreamReader.java:181)\n",
      "\tat java.base/java.io.BufferedReader.fill(BufferedReader.java:161)\n",
      "\tat java.base/java.io.BufferedReader.readLine(BufferedReader.java:326)\n",
      "\tat java.base/java.io.BufferedReader.readLine(BufferedReader.java:392)\n",
      "\tat org.apache.spark.streaming.dstream.SocketReceiver$$anon$2.getNext(SocketInputDStream.scala:121)\n",
      "\tat org.apache.spark.streaming.dstream.SocketReceiver$$anon$2.getNext(SocketInputDStream.scala:119)\n",
      "\tat org.apache.spark.util.NextIterator.hasNext(NextIterator.scala:73)\n",
      "\tat org.apache.spark.streaming.dstream.SocketReceiver.receive(SocketInputDStream.scala:91)\n",
      "\tat org.apache.spark.streaming.dstream.SocketReceiver$$anon$1.run(SocketInputDStream.scala:72)\n",
      "22/05/18 22:40:06 WARN ReceiverSupervisorImpl: Receiver has been stopped\n",
      "Exception in thread \"receiver-supervisor-future-0\" java.lang.InterruptedException: sleep interrupted\n",
      "\tat java.base/java.lang.Thread.sleep(Native Method)\n",
      "\tat org.apache.spark.streaming.receiver.ReceiverSupervisor.$anonfun$restartReceiver$1(ReceiverSupervisor.scala:196)\n",
      "\tat scala.runtime.java8.JFunction0$mcV$sp.apply(JFunction0$mcV$sp.java:23)\n",
      "\tat scala.concurrent.Future$.$anonfun$apply$1(Future.scala:659)\n",
      "\tat scala.util.Success.$anonfun$map$1(Try.scala:255)\n",
      "\tat scala.util.Success.map(Try.scala:213)\n",
      "\tat scala.concurrent.Future.$anonfun$map$1(Future.scala:292)\n",
      "\tat scala.concurrent.impl.Promise.liftedTree1$1(Promise.scala:33)\n",
      "\tat scala.concurrent.impl.Promise.$anonfun$transform$1(Promise.scala:33)\n",
      "\tat scala.concurrent.impl.CallbackRunnable.run(Promise.scala:64)\n",
      "\tat java.base/java.util.concurrent.ThreadPoolExecutor.runWorker(ThreadPoolExecutor.java:1128)\n",
      "\tat java.base/java.util.concurrent.ThreadPoolExecutor$Worker.run(ThreadPoolExecutor.java:628)\n",
      "\tat java.base/java.lang.Thread.run(Thread.java:829)\n",
      "                                                                                \r"
     ]
    },
    {
     "name": "stdout",
     "output_type": "stream",
     "text": [
      "true positive:  746  false positive:  63\n",
      "false negative:  523 true negative:  176\n"
     ]
    },
    {
     "name": "stderr",
     "output_type": "stream",
     "text": [
      "                                                                                \r"
     ]
    },
    {
     "name": "stdout",
     "output_type": "stream",
     "text": [
      "+--------------------+--------------------+----------+-----+\n",
      "|                text|         probability|prediction|label|\n",
      "+--------------------+--------------------+----------+-----+\n",
      "|    he was miserable|[0.51963015797327...|       0.0|    0|\n",
      "|wtf a mod just ti...|           [1.0,0.0]|       0.0|    1|\n",
      "|               Metal|[0.51963015797327...|       0.0|    0|\n",
      "|yea same when i w...|[2.65942484782595...|       1.0|    0|\n",
      "|black dress, blac...|[0.25681548436840...|       1.0|    0|\n",
      "|are all of the wo...|[1.64494251865541...|       1.0|    1|\n",
      "|Big Structural Ch...|[2.39565107070931...|       1.0|    1|\n",
      "|johnny, lord of f...|[0.15916707604322...|       1.0|    0|\n",
      "|                 kek|[0.72990057144581...|       0.0|    0|\n",
      "|             despair|[0.51963015797327...|       0.0|    0|\n",
      "|         Damnit elon|[2.00632095575932...|       1.0|    0|\n",
      "|        asmonMOGGERS|[0.99447407573786...|       0.0|    0|\n",
      "|          monkaStare|[0.46870293436313...|       1.0|    1|\n",
      "|I would be that w...|[4.25492648259707...|       1.0|    0|\n",
      "|Did he start play...|[0.00217116526614...|       1.0|    0|\n",
      "|            who dis?|[0.51963015797327...|       0.0|    0|\n",
      "|           who cares|[0.99999975974465...|       0.0|    0|\n",
      "|I sit in dark roo...|[0.98922434680298...|       0.0|    0|\n",
      "|@HasanAbi Just he...|[2.61973877947777...|       1.0|    1|\n",
      "|man i didnt know ...|           [1.0,0.0]|       0.0|    0|\n",
      "|goth = depressed ...|[0.70314951953317...|       0.0|    0|\n",
      "|         who is that|[0.51963015797327...|       0.0|    1|\n",
      "|cyr666 cyr666 cyr...|[0.51963015797327...|       0.0|    0|\n",
      "|            GIGACHAD|[0.99999999999889...|       0.0|    0|\n",
      "|@hasanabi If only...|[0.00136544355314...|       1.0|    1|\n",
      "|peepoHey @PunkiBr...|[0.04688158874618...|       1.0|    0|\n",
      "|        asmonDespair|[0.99999999999983...|       0.0|    0|\n",
      "|           aka vaush|[0.51963015797327...|       0.0|    1|\n",
      "|myabe because he ...|[0.51963015797327...|       0.0|    0|\n",
      "|He had organ musi...|[0.69954227546124...|       0.0|    0|\n",
      "|  monkaW Homelander?|[0.15916707604322...|       1.0|    1|\n",
      "|          MEGAGOTHIC|[0.51963015797327...|       0.0|    0|\n",
      "|             Satanic|[0.51963015797327...|       0.0|    0|\n",
      "|          asmonDegen|           [1.0,0.0]|       0.0|    0|\n",
      "|the. brooding dar...|[0.51963015797327...|       0.0|    0|\n",
      "|he wanted to tran...|[0.99999999999804...|       0.0|    0|\n",
      "|    someone sue Elon|[1.46514564055838...|       1.0|    0|\n",
      "|Hes realizing who...|[0.05037700647114...|       1.0|    0|\n",
      "|@HasanAbi nice ja...|[4.70638463162333...|       1.0|    1|\n",
      "|@hasanabi  BEST P...|[3.09436867917354...|       1.0|    1|\n",
      "|    B OMEGALUL HINES|[0.35803978564330...|       1.0|    1|\n",
      "|          asmonDegen|           [1.0,0.0]|       0.0|    0|\n",
      "|sounds like he wa...|[1.11053777955111...|       1.0|    0|\n",
      "|@HasanAbi your ro...|[3.61743865474780...|       1.0|    1|\n",
      "|My debt is on the...|[0.99775951167868...|       0.0|    1|\n",
      "|             VAMPIRE|[0.51963015797327...|       0.0|    0|\n",
      "|            Chatting|[1.84969683488501...|       1.0|    1|\n",
      "| amazonian salt time|[0.88109840931940...|       0.0|    0|\n",
      "|        HE WAS Sadge|[0.86207165250894...|       0.0|    0|\n",
      "|HOW DO I BREAK FR...|[2.70132273491326...|       1.0|    1|\n",
      "|@madfanta94  FBBl...|[1.16010899998758...|       1.0|    0|\n",
      "|dang he sounds li...|[2.16038579562566...|       1.0|    0|\n",
      "|johnny depp had a...|           [1.0,0.0]|       0.0|    0|\n",
      "|@krafiss_ dialect...|[0.51963015797327...|       0.0|    1|\n",
      "|      L OMEGALUL ANS|[0.99999979017933...|       0.0|    1|\n",
      "|what about all th...|[0.99999999988462...|       0.0|    1|\n",
      "|           edge lord|[0.51963015797327...|       0.0|    0|\n",
      "|                goth|[0.51963015797327...|       0.0|    0|\n",
      "|          asmonLong1|[2.41114803648763...|       1.0|    0|\n",
      "|            Chatting|[1.84969683488501...|       1.0|    1|\n",
      "|Utopias don’t and...|[0.99839501223115...|       0.0|    1|\n",
      "|    just like Manson|[6.11504826048828...|       1.0|    0|\n",
      "|he's literally me EZ|[5.02947978226736...|       1.0|    0|\n",
      "|  he's an Elden Lord|[0.99999975237544...|       0.0|    0|\n",
      "|            CHATTING|[1.84969683488501...|       1.0|    1|\n",
      "|   I SAY THAT!  PogU|[0.99862809164012...|       0.0|    1|\n",
      "|Who using the meg...|[0.44324248014762...|       1.0|    0|\n",
      "|                oops|[3.83313949728010...|       1.0|    1|\n",
      "|            Chatting|[1.84969683488501...|       1.0|    1|\n",
      "|               gothj|[0.51963015797327...|       0.0|    0|\n",
      "|DarkKnight DarkKn...|[0.51963015797327...|       0.0|    0|\n",
      "|               Madge|[0.53286957135292...|       0.0|    1|\n",
      "|can you talk abt ...|[1.46532871666233...|       1.0|    1|\n",
      "|REEEE AZAN WHY U ...|[7.99804725002913...|       1.0|    1|\n",
      "|                KEKW|[0.39677690392881...|       1.0|    1|\n",
      "|Classic Andy conf...|[0.39677690392881...|       1.0|    0|\n",
      "|          hasCapital|[0.14893475232732...|       1.0|    1|\n",
      "| hasL hasL hasL hasL|[1.62716582797904...|       1.0|    1|\n",
      "|    FUCK OU HASAN /S|[1.46833901698198...|       1.0|    1|\n",
      "|      I've read that|[5.91161686799396...|       1.0|    1|\n",
      "|   where's Rocketman|[0.51963015797327...|       0.0|    0|\n",
      "|   I TRUST Bo Hines!|[0.51963015797327...|       0.0|    1|\n",
      "|He was grinding d...|[0.51963015797327...|       0.0|    0|\n",
      "|   Cawthorn 2.0 KEKL|[0.48971875267522...|       1.0|    1|\n",
      "|she got bigger ba...|[0.99999995320525...|       0.0|    0|\n",
      "|            Chatting|[1.84969683488501...|       1.0|    1|\n",
      "|         moon2TYPERS|[0.51963015797327...|       0.0|    1|\n",
      "|     Sadge SmokeTime|[0.86207165250894...|       0.0|    1|\n",
      "|sounds like corre...|[1.11053777955111...|       1.0|    0|\n",
      "|          asmonLong1|[2.41114803648763...|       1.0|    0|\n",
      "|            Chatting|[1.84969683488501...|       1.0|    1|\n",
      "|who would be happ...|[3.48779233672938...|       1.0|    0|\n",
      "| CAWTHORN LIGHT KEKL|[0.98797040606669...|       0.0|    1|\n",
      "| nah you a king bruh|           [1.0,0.0]|       0.0|    1|\n",
      "|my coworkers bitc...|[0.99999999950629...|       0.0|    1|\n",
      "|             TRUEING|[0.51963015797327...|       0.0|    1|\n",
      "|hasDespair  Doome...|[0.10896818614346...|       1.0|    1|\n",
      "|       it is hasChud|[0.00567685061701...|       1.0|    1|\n",
      "|               Aware|           [1.0,0.0]|       0.0|    0|\n",
      "|              MmmHmm|[0.51963015797327...|       0.0|    1|\n",
      "|socialism is when...|[2.19470961275855...|       1.0|    1|\n",
      "|                hasO|[2.97758245445977...|       1.0|    1|\n",
      "|socialism = no house|           [1.0,0.0]|       0.0|    1|\n",
      "|He collected a lo...|[5.41079110276359...|       1.0|    0|\n",
      "|hasChud let me cu...|           [1.0,0.0]|       0.0|    1|\n",
      "|            Chatting|[1.84969683488501...|       1.0|    1|\n",
      "|       haspeepoGoose|[0.51963015797327...|       0.0|    1|\n",
      "|of course. fuking...|[0.51963015797327...|       0.0|    0|\n",
      "|hello darkness my...|           [1.0,0.0]|       0.0|    0|\n",
      "|         Pepegaphone|[0.51963015797327...|       0.0|    0|\n",
      "|Less hot less gay...|[9.17205228821180...|       1.0|    1|\n",
      "|i was told ratio'...|[2.76697006069098...|       1.0|    1|\n",
      "|What music was he...|[0.51963015797327...|       0.0|    0|\n",
      "|                 LUL|[0.80085680523873...|       0.0|    1|\n",
      "|Friedrich Engels ...|[0.99970164947776...|       0.0|    1|\n",
      "|Instead of my sum...|[0.99999998990168...|       0.0|    1|\n",
      "|               Stare|[0.99999999999956...|       0.0|    1|\n",
      "|                lmao|[0.34627040918970...|       1.0|    1|\n",
      "|          monkaStare|[0.46870293436313...|       1.0|    1|\n",
      "|    Madge Hassssssan|[0.53286957135292...|       0.0|    1|\n",
      "|  v FeelsGoodMan ush|[0.99999999999995...|       0.0|    1|\n",
      "|@Coffinspired pee...|[0.51963015797327...|       0.0|    1|\n",
      "|Bro Elon Musk is ...|[2.99497745540462...|       1.0|    1|\n",
      "|NIETZSCHEAN HYPER...|[0.51963015797327...|       0.0|    1|\n",
      "|Better this way, ...|[3.89623380508885...|       1.0|    0|\n",
      "|                lool|[0.51963015797327...|       0.0|    1|\n",
      "|Sometimes he'd be...|[0.51963015797327...|       0.0|    0|\n",
      "|                  EZ|[0.95570624809422...|       0.0|    0|\n",
      "|               Stare|[0.99999999999956...|       0.0|    1|\n",
      "|goodnight @Asmong...|           [1.0,0.0]|       0.0|    0|\n",
      "|              monkaW|[0.15916707604322...|       1.0|    1|\n",
      "|          monkaStare|[0.46870293436313...|       1.0|    1|\n",
      "|anyone has 250k p...|[0.54157712040969...|       0.0|    0|\n",
      "|he was trying to ...|[0.99999920287740...|       0.0|    0|\n",
      "|          monkaStare|[0.46870293436313...|       1.0|    1|\n",
      "|             WutFace|[0.99999999999995...|       0.0|    1|\n",
      "|Exactly what an a...|[0.05889746129960...|       1.0|    0|\n",
      "|                hasL|[2.13033015221442...|       1.0|    1|\n",
      "|That’s what happe...|           [1.0,0.0]|       0.0|    0|\n",
      "|      king hasL hasL|[9.09999349836112...|       1.0|    1|\n",
      "|                KEKW|[0.39677690392881...|       1.0|    1|\n",
      "|cawthorns arch ne...|[0.51963015797327...|       0.0|    1|\n",
      "|They all look the...|[0.99999999996064...|       0.0|    1|\n",
      "|                KEKL|[0.00704210715628...|       1.0|    1|\n",
      "|                  <3|[0.99999999781358...|       0.0|    1|\n",
      "|student loans hav...|[0.99999999922991...|       0.0|    1|\n",
      "| hasL hasL hasL hasL|[1.62716582797904...|       1.0|    1|\n",
      "|               Stare|[0.99999999999956...|       0.0|    1|\n",
      "|Depp Elden Lord c...|[0.99999999996222...|       0.0|    0|\n",
      "|if socialist then...|[0.51963015797327...|       0.0|    1|\n",
      "|        PogO HOUSAN?|[0.56184190296828...|       0.0|    1|\n",
      "|I'm proud of you ...|[2.13033015221442...|       1.0|    1|\n",
      "|@Bashcutter Pepeg...|[0.51963015797327...|       0.0|    0|\n",
      "|             GIGAHAS|[1.88840148564599...|       1.0|    1|\n",
      "|              monkaW|[0.15916707604322...|       1.0|    1|\n",
      "|               Stare|[0.99999999999956...|       0.0|    1|\n",
      "|@hasanabi genuine...|           [1.0,0.0]|       0.0|    1|\n",
      "|i mean with this ...|[0.99999998115764...|       0.0|    0|\n",
      "|REEEE IN THE POCK...|[7.38250421354928...|       1.0|    1|\n",
      "|            TOOBASED|[3.46922543734876...|       1.0|    1|\n",
      "|\"I'm looking for ...|           [1.0,0.0]|       0.0|    1|\n",
      "|     that smile haha|[0.99999999999992...|       0.0|    0|\n",
      "|          monkaStare|[0.46870293436313...|       1.0|    1|\n",
      "|It's Amber's lawy...|[0.99999999999520...|       0.0|    0|\n",
      "|       GIGAHAS HASAN|[3.32862910941831...|       1.0|    1|\n",
      "|     finally da boys|           [1.0,0.0]|       0.0|    1|\n",
      "|              monkaW|[0.15916707604322...|       1.0|    1|\n",
      "|      you are a hero|[0.51963015797327...|       0.0|    1|\n",
      "|New Vice news Vid...|           [1.0,0.0]|       0.0|    1|\n",
      "|               Stare|[0.99999999999956...|       0.0|    1|\n",
      "|hasDespair where ...|[0.99999999904926...|       0.0|    1|\n",
      "|                hasL|[2.13033015221442...|       1.0|    1|\n",
      "|        Gimme moneys|[0.51963015797327...|       0.0|    1|\n",
      "|          monkaStare|[0.46870293436313...|       1.0|    1|\n",
      "|         monkaS what|[0.20000086171852...|       1.0|    1|\n",
      "|                hasL|[2.13033015221442...|       1.0|    1|\n",
      "|                hasL|[2.13033015221442...|       1.0|    1|\n",
      "|hasan abi markett...|[7.59896867708702...|       1.0|    1|\n",
      "|               Stare|[0.99999999999956...|       0.0|    1|\n",
      "|               Stare|[0.99999999999956...|       0.0|    1|\n",
      "|              monkaW|[0.15916707604322...|       1.0|    1|\n",
      "|                hasL|[2.13033015221442...|       1.0|    1|\n",
      "|I'm 27 and dont w...|           [1.0,0.0]|       0.0|    1|\n",
      "|                hasL|[2.13033015221442...|       1.0|    1|\n",
      "|          monkaStare|[0.46870293436313...|       1.0|    1|\n",
      "|          monkaStare|[0.46870293436313...|       1.0|    1|\n",
      "|          monkaStare|[0.46870293436313...|       1.0|    1|\n",
      "|                hasL|[2.13033015221442...|       1.0|    1|\n",
      "|           hasL hasL|[4.19541778232263...|       1.0|    1|\n",
      "|thank you hasan l...|[9.85792714957125...|       1.0|    1|\n",
      "|       its true KEKW|[0.58072241343214...|       0.0|    1|\n",
      "|            <3 <3 <3|           [1.0,0.0]|       0.0|    1|\n",
      "| bogaPecan bogaPecan|[0.51963015797327...|       0.0|    1|\n",
      "|            Madge NO|[0.53286957135292...|       0.0|    1|\n",
      "|          monkaStare|[0.46870293436313...|       1.0|    1|\n",
      "|               Stare|[0.99999999999956...|       0.0|    1|\n",
      "|he found out abou...|[0.51963015797327...|       0.0|    0|\n",
      "|                hasL|[2.13033015221442...|       1.0|    1|\n",
      "|      King shit hasL|[0.01168383781981...|       1.0|    1|\n",
      "|peepoCheer go wol...|[4.40984719548623...|       1.0|    1|\n",
      "+--------------------+--------------------+----------+-----+\n",
      "only showing top 200 rows\n",
      "\n"
     ]
    },
    {
     "name": "stdout",
     "output_type": "stream",
     "text": [
      "========= 2022-05-18 22:45:00 =========\n",
      "+----------+--------------------+--------------------+---------------+\n",
      "|   channel|            datetime|             message|       username|\n",
      "+----------+--------------------+--------------------+---------------+\n",
      "| #hasanabi|2022-05-18T20:39:...|             GIGAHAS|      eric_ttfy|\n",
      "| #hasanabi|2022-05-18T20:39:...|              LETSGO|   stefie_rella|\n",
      "| #hasanabi|2022-05-18T20:39:...|dsaGIANT dsaGIANT...|        dambing|\n",
      "|#asmongold|2022-05-18T20:39:...|Offline chat is l...|      jackvaine|\n",
      "| #hasanabi|2022-05-18T20:40:...|LETSGO JOHN FETTE...|         zony66|\n",
      "| #hasanabi|2022-05-18T20:40:...|             GIGAHAS|    burgah_boy_|\n",
      "| #hasanabi|2022-05-18T20:40:...|Fetterman won eve...|   rektoroftroy|\n",
      "| #hasanabi|2022-05-18T20:40:...|@HasanAbi How wou...|     semourhere|\n",
      "| #hasanabi|2022-05-18T20:40:...|    LETSGO FETTERMAN|         bigg03|\n",
      "| #hasanabi|2022-05-18T20:40:...|          LETSGOOOOO|    roy_lacroix|\n",
      "| #hasanabi|2022-05-18T20:40:...|neffWammie neffWa...|  t33nage_squid|\n",
      "| #hasanabi|2022-05-18T20:40:...|    LETSGO FETTERMAN| boopermydooper|\n",
      "| #hasanabi|2022-05-18T20:40:...|LETSGO LETSGO LET...| salvadorzombie|\n",
      "| #hasanabi|2022-05-18T20:40:...|dsaGIANT dsaComra...|keeperofthepies|\n",
      "| #hasanabi|2022-05-18T20:40:...|whoa whoa i dont ...|     icecool234|\n",
      "|#asmongold|2022-05-18T20:40:...|She's an acting c...|       haggus71|\n",
      "| #hasanabi|2022-05-18T20:40:...|   GIGAHAS FETTERMAN|    qwertyopsd2|\n",
      "| #hasanabi|2022-05-18T20:40:...|         LETSGO JOHN|       laserkei|\n",
      "| #hasanabi|2022-05-18T20:40:...|didnt he have a s...|    screenfresh|\n",
      "|#asmongold|2022-05-18T20:40:...|          asmonLong1|  autumntealeaf|\n",
      "+----------+--------------------+--------------------+---------------+\n",
      "only showing top 20 rows\n",
      "\n",
      "Test Area Under ROC 0.7399553571428571\n",
      "true positive:  50  false positive:  4\n",
      "false negative:  14 true negative:  10\n",
      "+--------------------+--------------------+----------+-----+\n",
      "|                text|         probability|prediction|label|\n",
      "+--------------------+--------------------+----------+-----+\n",
      "|             GIGAHAS|[1.88840148564599...|       1.0|    1|\n",
      "|              LETSGO|[0.30036113018342...|       1.0|    1|\n",
      "|dsaGIANT dsaGIANT...|[0.00269520305544...|       1.0|    1|\n",
      "|Offline chat is l...|[0.96000000286448...|       0.0|    0|\n",
      "|LETSGO JOHN FETTE...|[4.30047488009600...|       1.0|    1|\n",
      "|             GIGAHAS|[1.88840148564599...|       1.0|    1|\n",
      "|Fetterman won eve...|[5.91189200349376...|       1.0|    1|\n",
      "|@HasanAbi How wou...|[2.48521387206250...|       1.0|    1|\n",
      "|    LETSGO FETTERMAN|[4.30047488009600...|       1.0|    1|\n",
      "|          LETSGOOOOO|[0.51963015797327...|       0.0|    1|\n",
      "|neffWammie neffWa...|[0.51963015797327...|       0.0|    1|\n",
      "|    LETSGO FETTERMAN|[4.30047488009600...|       1.0|    1|\n",
      "|LETSGO LETSGO LET...|[0.01053837142731...|       1.0|    1|\n",
      "|dsaGIANT dsaComra...|[0.05129469225806...|       1.0|    1|\n",
      "|whoa whoa i dont ...|[7.83067972498216...|       1.0|    1|\n",
      "|She's an acting c...|           [1.0,0.0]|       0.0|    0|\n",
      "|   GIGAHAS FETTERMAN|[1.89173206630259...|       1.0|    1|\n",
      "|         LETSGO JOHN|[0.30036113018342...|       1.0|    1|\n",
      "|didnt he have a s...|[1.12149136184012...|       1.0|    1|\n",
      "|          asmonLong1|[2.41114803648763...|       1.0|    0|\n",
      "|  DONT TREAD ON WEED|[7.15785574282189...|       1.0|    1|\n",
      "|              LETSGO|[0.30036113018342...|       1.0|    1|\n",
      "|     BIG JOHN LETSGO|[9.50768423099976...|       1.0|    1|\n",
      "|hasRight dsaGIANT...|[0.19474390597407...|       1.0|    1|\n",
      "|      hasL hasL hasL|[8.26234860647446...|       1.0|    1|\n",
      "|   Fetterman Gigahas|[1.89173206630259...|       1.0|    1|\n",
      "|dsaGIANT dsaGIANT...|[6.03826969355131...|       1.0|    1|\n",
      "|I like em big! I ...|[0.39603549178341...|       1.0|    0|\n",
      "|  dsaGIANT HYPERCLAP|[2.33726944497586...|       1.0|    1|\n",
      "|            Fettlife|[0.51963015797327...|       0.0|    1|\n",
      "|I wish this trial...|[0.99982344128219...|       0.0|    0|\n",
      "|@hfleb it's a CLO...|[0.00567076448414...|       1.0|    1|\n",
      "|bro if she a whor...|[4.20658286544389...|       1.0|    0|\n",
      "|              LETSGO|[0.30036113018342...|       1.0|    1|\n",
      "|        FETTERMAN EZ|[0.00215679839358...|       1.0|    1|\n",
      "|     dsaKnee dsaRose|[0.01476825339550...|       1.0|    1|\n",
      "|                 Hmm|[0.59999948438499...|       0.0|    1|\n",
      "|SHHHHH!! Chat be ...|           [1.0,0.0]|       0.0|    1|\n",
      "|      LETSGO GIGAHAS|[7.49454927741922...|       1.0|    1|\n",
      "|                Yeah|[4.39764517299430...|       1.0|    1|\n",
      "|              LETSGO|[0.30036113018342...|       1.0|    1|\n",
      "|@teamYAWGMOTH agreed|[0.51963015797327...|       0.0|    0|\n",
      "|                WOOO|[0.51963015797327...|       0.0|    1|\n",
      "|              LETSGO|[0.30036113018342...|       1.0|    1|\n",
      "|dsaGIANT dsaGIANT...|[0.00269520305544...|       1.0|    1|\n",
      "|           KKop Clap|[0.99999999610256...|       0.0|    1|\n",
      "|FETTERMAN SWEEP L...|[4.30047488009600...|       1.0|    1|\n",
      "|🍋🍋🍋🍋🍋🍋🍋🍋?...|[0.51963015797327...|       0.0|    1|\n",
      "|          They won't|[0.51963015797327...|       0.0|    1|\n",
      "|            PepeLa I|[7.50065715700973...|       1.0|    1|\n",
      "|bad takes on immi...|[6.76199082088704...|       1.0|    1|\n",
      "|asmon we are stil...|[0.99995976165271...|       0.0|    0|\n",
      "|              LETSGO|[0.30036113018342...|       1.0|    1|\n",
      "|asmonBoy asmonBoy...|[0.51963015797327...|       0.0|    0|\n",
      "|       asmonLong1 󠀀|[4.15482579908977...|       1.0|    0|\n",
      "|LETSGO FETTERMAN ...|[5.89040609718897...|       1.0|    1|\n",
      "|              PepeLa|[7.50065715700973...|       1.0|    1|\n",
      "|             RIPBOZO|[0.43250516707482...|       1.0|    1|\n",
      "|@AutumnTeaLeaf zi...|[0.51963015797327...|       0.0|    0|\n",
      "|One Mr Michael, r...|           [1.0,0.0]|       0.0|    1|\n",
      "|           LETSGO 󠀀|[0.06888166304698...|       1.0|    1|\n",
      "|              LETSGO|[0.30036113018342...|       1.0|    1|\n",
      "|@Attillee omg!!!!...|[0.51963015797327...|       0.0|    0|\n",
      "|            dsaGIANT|[0.19474390597407...|       1.0|    1|\n",
      "|we need more Fett...|[0.99742818231580...|       0.0|    1|\n",
      "|dsaNODDERS dsaTankie|[0.51963015797327...|       0.0|    1|\n",
      "|hasRight dsaGIANT...|[0.19474390597407...|       1.0|    1|\n",
      "|              LETSGO|[0.30036113018342...|       1.0|    1|\n",
      "|when is the texas...|           [1.0,0.0]|       0.0|    1|\n",
      "|  PRO ISRAEL KEKWait|[1.39485502583594...|       1.0|    1|\n",
      "|                dsaL|[0.51963015797327...|       0.0|    1|\n",
      "|    LETSGO FETTERMAN|[4.30047488009600...|       1.0|    1|\n",
      "|    LETSGO 2:1 RATIO|[1.52510643393287...|       1.0|    1|\n",
      "|CHARLES BOOKER TA...|[7.07586714578713...|       1.0|    1|\n",
      "|asmonE1 asmonE2  ...|[0.98063932212631...|       0.0|    0|\n",
      "|              LETSGO|[0.30036113018342...|       1.0|    1|\n",
      "|BIG JOHN GIGAHAS ...|[9.34376611132335...|       1.0|    1|\n",
      "|       asmon1 asmon2|[0.51963015797327...|       0.0|    0|\n",
      "+--------------------+--------------------+----------+-----+\n",
      "\n"
     ]
    }
   ],
   "source": [
    "ssc_t.stop()"
   ]
  },
  {
   "cell_type": "code",
   "execution_count": null,
   "id": "8f489f70",
   "metadata": {},
   "outputs": [],
   "source": []
  }
 ],
 "metadata": {
  "kernelspec": {
   "display_name": "Python 3 (ipykernel)",
   "language": "python",
   "name": "python3"
  },
  "language_info": {
   "codemirror_mode": {
    "name": "ipython",
    "version": 3
   },
   "file_extension": ".py",
   "mimetype": "text/x-python",
   "name": "python",
   "nbconvert_exporter": "python",
   "pygments_lexer": "ipython3",
   "version": "3.9.7"
  },
  "toc": {
   "base_numbering": 1,
   "nav_menu": {},
   "number_sections": true,
   "sideBar": true,
   "skip_h1_title": false,
   "title_cell": "Table of Contents",
   "title_sidebar": "Contents",
   "toc_cell": false,
   "toc_position": {
    "height": "calc(100% - 180px)",
    "left": "10px",
    "top": "150px",
    "width": "165px"
   },
   "toc_section_display": true,
   "toc_window_display": true
  },
  "varInspector": {
   "cols": {
    "lenName": 16,
    "lenType": 16,
    "lenVar": 40
   },
   "kernels_config": {
    "python": {
     "delete_cmd_postfix": "",
     "delete_cmd_prefix": "del ",
     "library": "var_list.py",
     "varRefreshCmd": "print(var_dic_list())"
    },
    "r": {
     "delete_cmd_postfix": ") ",
     "delete_cmd_prefix": "rm(",
     "library": "var_list.r",
     "varRefreshCmd": "cat(var_dic_list()) "
    }
   },
   "types_to_exclude": [
    "module",
    "function",
    "builtin_function_or_method",
    "instance",
    "_Feature"
   ],
   "window_display": false
  }
 },
 "nbformat": 4,
 "nbformat_minor": 5
}
